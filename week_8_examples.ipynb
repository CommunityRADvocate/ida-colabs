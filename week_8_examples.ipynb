{
  "nbformat": 4,
  "nbformat_minor": 0,
  "metadata": {
    "colab": {
      "provenance": [],
      "authorship_tag": "ABX9TyMZlFKsn41eZNGxXsQYjwim",
      "include_colab_link": true
    },
    "kernelspec": {
      "name": "python3",
      "display_name": "Python 3"
    },
    "language_info": {
      "name": "python"
    }
  },
  "cells": [
    {
      "cell_type": "markdown",
      "metadata": {
        "id": "view-in-github",
        "colab_type": "text"
      },
      "source": [
        "<a href=\"https://colab.research.google.com/github/CommunityRADvocate/ida-colabs/blob/main/week_8_examples.ipynb\" target=\"_parent\"><img src=\"https://colab.research.google.com/assets/colab-badge.svg\" alt=\"Open In Colab\"/></a>"
      ]
    },
    {
      "cell_type": "markdown",
      "source": [
        "## Integer Operations"
      ],
      "metadata": {
        "id": "mtC_TOFLAw1Z"
      }
    },
    {
      "cell_type": "code",
      "execution_count": null,
      "metadata": {
        "id": "AHI4cFjd3-9c"
      },
      "outputs": [],
      "source": [
        "a = 10\n",
        "b = 3\n",
        "\n",
        "# Addition\n",
        "add = a + b\n",
        "print(\"Addition:\", add)\n",
        "\n",
        "# Subtraction\n",
        "subtract = a - b\n",
        "print(\"Subtraction:\", subtract)\n",
        "\n",
        "#Multiplication\n",
        "multiply = a * b\n",
        "print(\"Multiplication:\", multiply)"
      ]
    },
    {
      "cell_type": "markdown",
      "source": [
        "## Strings and Operators"
      ],
      "metadata": {
        "id": "8ViVze9aAsKq"
      }
    },
    {
      "cell_type": "code",
      "source": [
        "name = \"Nicole\"\n",
        "\n",
        "# Concatenate\n",
        "# greeting = \"Hello, \" + name\n",
        "\n",
        "# String Methods\n",
        "name_length = len(name)\n",
        "name_uppercase = name.upper()\n",
        "name_lowercase = name.lower()\n",
        "print(name_uppercase)\n",
        "\n",
        "# Templates\n",
        "greeting = f\"Hello, {name}! Your name has {name_length} letters in it!\"\n",
        "\n",
        "# Containment\n",
        "contains_a = \"a\" in name\n",
        "contains_e = \"e\" in name\n",
        "contains_i = \"i\" in name\n",
        "\n",
        "print(greeting)\n",
        "print(contains_a)"
      ],
      "metadata": {
        "colab": {
          "base_uri": "https://localhost:8080/"
        },
        "id": "LoAsBZ-N6SQQ",
        "outputId": "69665b16-c620-47ec-b879-a92ff123dc7b"
      },
      "execution_count": 49,
      "outputs": [
        {
          "output_type": "stream",
          "name": "stdout",
          "text": [
            "NICOLE\n",
            "Hello, Nicole! Your name has 6 letters in it!\n",
            "False\n"
          ]
        }
      ]
    },
    {
      "cell_type": "markdown",
      "source": [
        "## Booleans"
      ],
      "metadata": {
        "id": "hKNiT4I8AmXj"
      }
    },
    {
      "cell_type": "code",
      "source": [
        "print(\"A: \", contains_a)\n",
        "print(\"E: \", contains_e)"
      ],
      "metadata": {
        "colab": {
          "base_uri": "https://localhost:8080/"
        },
        "id": "_pHRObXs8PlW",
        "outputId": "bd8801d0-000f-4bc1-d072-292364b97beb"
      },
      "execution_count": 20,
      "outputs": [
        {
          "output_type": "stream",
          "name": "stdout",
          "text": [
            "A:  False\n",
            "E:  True\n"
          ]
        }
      ]
    },
    {
      "cell_type": "markdown",
      "source": [
        "## If, Else, Elif"
      ],
      "metadata": {
        "id": "2xvKlmi79p1C"
      }
    },
    {
      "cell_type": "code",
      "source": [
        "if contains_a:\n",
        "    print(\"'A' is the first vowel in your name.\")\n",
        "elif contains_e:\n",
        "    print(\"'E' is the first vowel in your name.\")\n",
        "elif contains_i:\n",
        "    print(\"'I' is the first vowel in your name.\")\n",
        "else:\n",
        "    print(\"Your name does not contain 'A' or 'E'.\")"
      ],
      "metadata": {
        "colab": {
          "base_uri": "https://localhost:8080/"
        },
        "id": "UQoF_WQ69YDI",
        "outputId": "548f778d-9b78-4be5-b2fe-995e722015a9"
      },
      "execution_count": 31,
      "outputs": [
        {
          "output_type": "stream",
          "name": "stdout",
          "text": [
            "'E' is the first vowel in your name.\n"
          ]
        }
      ]
    },
    {
      "cell_type": "markdown",
      "source": [
        "## Comparisons"
      ],
      "metadata": {
        "id": "SSsOZgc2BArJ"
      }
    },
    {
      "cell_type": "code",
      "source": [
        "avg_name_length = 6\n",
        "\n",
        "if name_length == avg_name_length:\n",
        "    print(\"Your name has the same number of letters as the average\")\n",
        "elif name_length < avg_name_length:\n",
        "    print(\"Your name has fewer letters than the average\")\n",
        "elif name_length > avg_name_length:\n",
        "    print(\"Your name has more letters than the average\")\n",
        "else:\n",
        "    print(\"An error has occurred\")"
      ],
      "metadata": {
        "colab": {
          "base_uri": "https://localhost:8080/"
        },
        "id": "VJ14jR7rBEHq",
        "outputId": "ca82bbfe-b419-409b-9486-c168f4978df2"
      },
      "execution_count": 29,
      "outputs": [
        {
          "output_type": "stream",
          "name": "stdout",
          "text": [
            "Your name has the same number of letters as the average\n"
          ]
        }
      ]
    },
    {
      "cell_type": "markdown",
      "source": [
        "## Functions"
      ],
      "metadata": {
        "id": "vSWGuutCIC3i"
      }
    },
    {
      "cell_type": "code",
      "source": [
        "def greet(gjuirophejsihopjuriop):\n",
        "    print(f\"Hello, {gjuirophejsihopjuriop}!\")\n",
        "\n",
        "greet(\"Alice\")\n",
        "greet(\"Bob\")\n",
        "greet(name)"
      ],
      "metadata": {
        "colab": {
          "base_uri": "https://localhost:8080/"
        },
        "id": "jjZ5_qmiIG39",
        "outputId": "7cf44131-4e92-4bb1-829c-c2182111f269"
      },
      "execution_count": 39,
      "outputs": [
        {
          "output_type": "stream",
          "name": "stdout",
          "text": [
            "Hello, Alice!\n",
            "Hello, Bob!\n",
            "Hello, Nicole!\n"
          ]
        }
      ]
    },
    {
      "cell_type": "markdown",
      "source": [
        "## Returning Values"
      ],
      "metadata": {
        "id": "CHvVpdvsNcme"
      }
    },
    {
      "cell_type": "code",
      "source": [
        "total_bill = float(input(\"Total bill amount: $\"))\n",
        "num_people = int(input(\"Number of people: \"))\n",
        "\n",
        "# calculate and display amount per person\n",
        "print(f\"Each person pays ${total_bill/num_people:.2f}\")"
      ],
      "metadata": {
        "colab": {
          "base_uri": "https://localhost:8080/"
        },
        "id": "uqUlQWSxNer8",
        "outputId": "cc6d05f1-7c38-4e02-8488-259b52a21eb5"
      },
      "execution_count": 40,
      "outputs": [
        {
          "output_type": "stream",
          "name": "stdout",
          "text": [
            "Total bill amount: $50\n",
            "Number of people: 2\n",
            "Each person pays $25.00\n"
          ]
        }
      ]
    },
    {
      "cell_type": "markdown",
      "source": [
        "## Expecting Exceptions"
      ],
      "metadata": {
        "id": "r7xkZ7tPOOOk"
      }
    },
    {
      "cell_type": "code",
      "source": [
        "x = 10 / 0\n",
        "print(x)"
      ],
      "metadata": {
        "colab": {
          "base_uri": "https://localhost:8080/",
          "height": 159
        },
        "id": "_xrvp-zHOlpC",
        "outputId": "693a45aa-cf15-4f4f-8075-59fc184879ed"
      },
      "execution_count": 41,
      "outputs": [
        {
          "output_type": "error",
          "ename": "ZeroDivisionError",
          "evalue": "division by zero",
          "traceback": [
            "\u001b[0;31m---------------------------------------------------------------------------\u001b[0m",
            "\u001b[0;31mZeroDivisionError\u001b[0m                         Traceback (most recent call last)",
            "\u001b[0;32m<ipython-input-41-06fbe68ed327>\u001b[0m in \u001b[0;36m<cell line: 1>\u001b[0;34m()\u001b[0m\n\u001b[0;32m----> 1\u001b[0;31m \u001b[0mx\u001b[0m \u001b[0;34m=\u001b[0m \u001b[0;36m10\u001b[0m \u001b[0;34m/\u001b[0m \u001b[0;36m0\u001b[0m\u001b[0;34m\u001b[0m\u001b[0;34m\u001b[0m\u001b[0m\n\u001b[0m\u001b[1;32m      2\u001b[0m \u001b[0mprint\u001b[0m\u001b[0;34m(\u001b[0m\u001b[0mx\u001b[0m\u001b[0;34m)\u001b[0m\u001b[0;34m\u001b[0m\u001b[0;34m\u001b[0m\u001b[0m\n",
            "\u001b[0;31mZeroDivisionError\u001b[0m: division by zero"
          ]
        }
      ]
    },
    {
      "cell_type": "code",
      "source": [
        "try:\n",
        "    x = 10 / 0 #attempting to divide by zero\n",
        "except ZeroDivisionError:\n",
        "    print(\"Error: You cannot divide by zero!\")"
      ],
      "metadata": {
        "colab": {
          "base_uri": "https://localhost:8080/"
        },
        "id": "7jjBmEslOQjq",
        "outputId": "ce452451-1853-4ade-9039-2bab1b2e24f0"
      },
      "execution_count": 42,
      "outputs": [
        {
          "output_type": "stream",
          "name": "stdout",
          "text": [
            "Error: You cannot divide by zero!\n"
          ]
        }
      ]
    },
    {
      "cell_type": "code",
      "source": [
        "cp, ma, a = \"secure123\", 3, 0\n",
        "\n",
        "while a < ma:\n",
        "    if input(\"Password?: \") == cp:\n",
        "        print(\"Access granted\")\n",
        "        break\n",
        "    print(\"Incorrect. Try again.\")\n",
        "    a += 1\n",
        "else:\n",
        "    print(\"Max attempts reached. Access denied.\")"
      ],
      "metadata": {
        "colab": {
          "base_uri": "https://localhost:8080/"
        },
        "id": "EQXq_0eic0CL",
        "outputId": "ea34b491-07fd-428f-a86f-e3f9219aaf2a"
      },
      "execution_count": 44,
      "outputs": [
        {
          "output_type": "stream",
          "name": "stdout",
          "text": [
            "Password?: fjieow\n",
            "Incorrect. Try again.\n",
            "Password?: hjfieow\n",
            "Incorrect. Try again.\n",
            "Password?: hfieowp\n",
            "Incorrect. Try again.\n",
            "Max attempts reached. Access denied.\n"
          ]
        }
      ]
    },
    {
      "cell_type": "code",
      "source": [
        "numbers = [1, 2, 3, 4, 5]\n",
        "total = 0\n",
        "\n",
        "for num in numbers:\n",
        "    total += num\n",
        "    print(\"The current sum of the numbers is: \", total)"
      ],
      "metadata": {
        "colab": {
          "base_uri": "https://localhost:8080/"
        },
        "id": "L2twGLMZejF3",
        "outputId": "9475d26a-7d0e-4835-aea5-234e196620cc"
      },
      "execution_count": 46,
      "outputs": [
        {
          "output_type": "stream",
          "name": "stdout",
          "text": [
            "The current sum of the numbers is:  1\n",
            "The current sum of the numbers is:  3\n",
            "The current sum of the numbers is:  6\n",
            "The current sum of the numbers is:  10\n",
            "The current sum of the numbers is:  15\n"
          ]
        }
      ]
    }
  ]
}