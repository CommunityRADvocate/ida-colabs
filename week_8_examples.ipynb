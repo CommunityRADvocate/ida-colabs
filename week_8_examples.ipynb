{
  "nbformat": 4,
  "nbformat_minor": 0,
  "metadata": {
    "colab": {
      "provenance": [],
      "authorship_tag": "ABX9TyNJ+0eprEbKVEHc6f23BO2x",
      "include_colab_link": true
    },
    "kernelspec": {
      "name": "python3",
      "display_name": "Python 3"
    },
    "language_info": {
      "name": "python"
    }
  },
  "cells": [
    {
      "cell_type": "markdown",
      "metadata": {
        "id": "view-in-github",
        "colab_type": "text"
      },
      "source": [
        "<a href=\"https://colab.research.google.com/github/CommunityRADvocate/ida-colabs/blob/main/week_8_examples.ipynb\" target=\"_parent\"><img src=\"https://colab.research.google.com/assets/colab-badge.svg\" alt=\"Open In Colab\"/></a>"
      ]
    },
    {
      "cell_type": "code",
      "execution_count": 1,
      "metadata": {
        "colab": {
          "base_uri": "https://localhost:8080/"
        },
        "id": "AHI4cFjd3-9c",
        "outputId": "62ffa951-6b74-4e92-9ddd-1a777abfe010"
      },
      "outputs": [
        {
          "output_type": "stream",
          "name": "stdout",
          "text": [
            "Addition: 13\n",
            "Subtraction: 7\n",
            "Multiplication: 30\n"
          ]
        }
      ],
      "source": [
        "# Integer Operations\n",
        "\n",
        "a = 10\n",
        "b = 3\n",
        "\n",
        "# Addition\n",
        "add = a + b\n",
        "print(\"Addition:\", add)\n",
        "\n",
        "# Subtraction\n",
        "subtract = a - b\n",
        "print(\"Subtraction:\", subtract)\n",
        "\n",
        "#Multiplication\n",
        "multiply = a * b\n",
        "print(\"Multiplication:\", multiply)"
      ]
    },
    {
      "cell_type": "code",
      "source": [
        "# Strings and Operators\n",
        "\n",
        "my_name = \"Remy\"\n",
        "\n",
        "# Concatenate\n",
        "greeting = \"Hello, \" + my_name\n",
        "\n",
        "# String Methods\n",
        "name_length = len(my_name)\n",
        "name_uppercase = my_name.upper()\n",
        "name_lowercase = my_name.lower()\n",
        "\n",
        "# Templates\n",
        "greeting = f\"Hello, {my_name}!\"\n",
        "\n",
        "# Containment\n",
        "contains_a = \"a\" in my_name\n",
        "contains_e = \"e\" in my_name"
      ],
      "metadata": {
        "id": "LoAsBZ-N6SQQ"
      },
      "execution_count": 4,
      "outputs": []
    },
    {
      "cell_type": "code",
      "source": [
        "# Booleans\n",
        "\n",
        "print(contains_a)"
      ],
      "metadata": {
        "colab": {
          "base_uri": "https://localhost:8080/"
        },
        "id": "_pHRObXs8PlW",
        "outputId": "6bad4409-8793-4b12-8156-bd21a7cb288f"
      },
      "execution_count": 5,
      "outputs": [
        {
          "output_type": "stream",
          "name": "stdout",
          "text": [
            "False\n"
          ]
        }
      ]
    }
  ]
}