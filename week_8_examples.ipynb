{
  "nbformat": 4,
  "nbformat_minor": 0,
  "metadata": {
    "colab": {
      "provenance": [],
      "authorship_tag": "ABX9TyMD2D2pD7UtjJaeu4+HyJmi",
      "include_colab_link": true
    },
    "kernelspec": {
      "name": "python3",
      "display_name": "Python 3"
    },
    "language_info": {
      "name": "python"
    }
  },
  "cells": [
    {
      "cell_type": "markdown",
      "metadata": {
        "id": "view-in-github",
        "colab_type": "text"
      },
      "source": [
        "<a href=\"https://colab.research.google.com/github/CommunityRADvocate/ida-colabs/blob/main/week_8_examples.ipynb\" target=\"_parent\"><img src=\"https://colab.research.google.com/assets/colab-badge.svg\" alt=\"Open In Colab\"/></a>"
      ]
    },
    {
      "cell_type": "code",
      "execution_count": 1,
      "metadata": {
        "colab": {
          "base_uri": "https://localhost:8080/"
        },
        "id": "AHI4cFjd3-9c",
        "outputId": "62ffa951-6b74-4e92-9ddd-1a777abfe010"
      },
      "outputs": [
        {
          "output_type": "stream",
          "name": "stdout",
          "text": [
            "Addition: 13\n",
            "Subtraction: 7\n",
            "Multiplication: 30\n"
          ]
        }
      ],
      "source": [
        "# Integer Operations\n",
        "\n",
        "a = 10\n",
        "b = 3\n",
        "\n",
        "# Addition\n",
        "add = a + b\n",
        "print(\"Addition:\", add)\n",
        "\n",
        "# Subtraction\n",
        "subtract = a - b\n",
        "print(\"Subtraction:\", subtract)\n",
        "\n",
        "#Multiplication\n",
        "multiply = a * b\n",
        "print(\"Multiplication:\", multiply)"
      ]
    },
    {
      "cell_type": "code",
      "source": [
        "# Strings and Operators\n",
        "\n",
        "my_name = \"Remy\"\n",
        "\n",
        "# Concatenate\n",
        "greeting = \"Hello, \" + my_name\n",
        "\n",
        "# String Methods\n",
        "name_length = len(my_name)\n",
        "name_uppercase = my_name.upper()\n",
        "name_lowercase = my_name.lower()\n",
        "\n",
        "# Templates\n",
        "greeting = f\"Hello, {my_name}!\"\n",
        "\n",
        "# Containment\n",
        "contains_a = \"a\" in my_name\n",
        "contains_e = \"e\" in my_name"
      ],
      "metadata": {
        "id": "LoAsBZ-N6SQQ"
      },
      "execution_count": 7,
      "outputs": []
    },
    {
      "cell_type": "code",
      "source": [
        "# Booleans\n",
        "\n",
        "print(\"A: \", contains_a)\n",
        "print(\"E: \", contains_e)"
      ],
      "metadata": {
        "colab": {
          "base_uri": "https://localhost:8080/"
        },
        "id": "_pHRObXs8PlW",
        "outputId": "42fd0f49-c3e7-442a-f84e-47bd9eca9409"
      },
      "execution_count": 8,
      "outputs": [
        {
          "output_type": "stream",
          "name": "stdout",
          "text": [
            "A:  False\n",
            "E:  True\n"
          ]
        }
      ]
    },
    {
      "cell_type": "markdown",
      "source": [
        "## If, Else, Elif"
      ],
      "metadata": {
        "id": "2xvKlmi79p1C"
      }
    },
    {
      "cell_type": "code",
      "source": [
        "if contains_a:\n",
        "    print(\"'A' is the first letter in your name.\")\n",
        "elif contains_e:\n",
        "    print(\"'E' is the first letter in your name.\")\n",
        "else:\n",
        "    print(\"Your name does not contain 'A' or 'E'.\")"
      ],
      "metadata": {
        "colab": {
          "base_uri": "https://localhost:8080/"
        },
        "id": "UQoF_WQ69YDI",
        "outputId": "233a34cb-8aba-4e5e-cd32-46d3f5513946"
      },
      "execution_count": 10,
      "outputs": [
        {
          "output_type": "stream",
          "name": "stdout",
          "text": [
            "'E' is the first letter in your name.\n"
          ]
        }
      ]
    }
  ]
}