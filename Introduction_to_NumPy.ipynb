{
  "cells": [
    {
      "cell_type": "markdown",
      "metadata": {
        "id": "view-in-github",
        "colab_type": "text"
      },
      "source": [
        "<a href=\"https://colab.research.google.com/github/CommunityRADvocate/ida-colabs/blob/main/Introduction_to_NumPy.ipynb\" target=\"_parent\"><img src=\"https://colab.research.google.com/assets/colab-badge.svg\" alt=\"Open In Colab\"/></a>"
      ]
    },
    {
      "cell_type": "markdown",
      "id": "f213878e",
      "metadata": {
        "id": "f213878e"
      },
      "source": [
        "# Introduction to NumPy\n",
        "\n",
        "Video: https://www.youtube.com/watch?v=53sp0bdU-aU"
      ]
    },
    {
      "cell_type": "code",
      "execution_count": null,
      "id": "fb89b089",
      "metadata": {
        "id": "fb89b089",
        "outputId": "35a3fa6d-f276-49f5-db11-1ff21d9d5455"
      },
      "outputs": [
        {
          "data": {
            "text/plain": [
              "'1.23.5'"
            ]
          },
          "execution_count": 1,
          "metadata": {},
          "output_type": "execute_result"
        }
      ],
      "source": [
        "import numpy as np\n",
        "np.__version__"
      ]
    },
    {
      "cell_type": "markdown",
      "id": "07cc11ef",
      "metadata": {
        "id": "07cc11ef"
      },
      "source": [
        "## Differences between lists and NumPy Arrays\n",
        "\n",
        "* Lists can contain different datatypes, while np arrays can only have the same datatype\n",
        "* An array's size is immutable. You cannot append, insert or remove elements, like you can with a list.\n",
        "* All of an array's elements must be of the same data type.\n",
        "* A NumPy array behaves in a Pythonic fashion. You can `len(my_array` just like you would assume."
      ]
    },
    {
      "cell_type": "code",
      "execution_count": null,
      "id": "08ff880b",
      "metadata": {
        "id": "08ff880b"
      },
      "outputs": [],
      "source": [
        "gpas_as_list = [4.0, 3.286, 3.5]"
      ]
    },
    {
      "cell_type": "code",
      "execution_count": null,
      "id": "d55dad16",
      "metadata": {
        "id": "d55dad16",
        "outputId": "e00df6d4-2a31-4ab6-bf41-7a97e61c8368"
      },
      "outputs": [
        {
          "data": {
            "text/plain": [
              "'Whatevs'"
            ]
          },
          "execution_count": 3,
          "metadata": {},
          "output_type": "execute_result"
        }
      ],
      "source": [
        "# can have elements appended to it\n",
        "gpas_as_list.append(4.0)\n",
        "# can have multiple datatypes in it\n",
        "gpas_as_list.insert(1, \"Whatevs\")\n",
        "# can have items removed\n",
        "gpas_as_list.pop(1)"
      ]
    },
    {
      "cell_type": "code",
      "execution_count": null,
      "id": "ea439f1d",
      "metadata": {
        "id": "ea439f1d",
        "outputId": "3571e72c-d33f-4f70-a544-c86813af017a"
      },
      "outputs": [
        {
          "data": {
            "text/plain": [
              "[4.0, 3.286, 3.5, 4.0]"
            ]
          },
          "execution_count": 4,
          "metadata": {},
          "output_type": "execute_result"
        }
      ],
      "source": [
        "gpas_as_list"
      ]
    },
    {
      "cell_type": "code",
      "execution_count": null,
      "id": "be4d9f7c",
      "metadata": {
        "id": "be4d9f7c"
      },
      "outputs": [],
      "source": [
        "gpas = np.array(gpas_as_list)"
      ]
    },
    {
      "cell_type": "code",
      "execution_count": null,
      "id": "507a460f",
      "metadata": {
        "id": "507a460f"
      },
      "outputs": [],
      "source": [
        "?gpas"
      ]
    },
    {
      "cell_type": "code",
      "execution_count": null,
      "id": "02adb814",
      "metadata": {
        "id": "02adb814",
        "outputId": "b5bec185-707b-40ce-e179-67b59204af39"
      },
      "outputs": [
        {
          "data": {
            "text/plain": [
              "dtype('float64')"
            ]
          },
          "execution_count": 9,
          "metadata": {},
          "output_type": "execute_result"
        }
      ],
      "source": [
        "gpas.dtype"
      ]
    },
    {
      "cell_type": "code",
      "execution_count": null,
      "id": "ec012b21",
      "metadata": {
        "id": "ec012b21",
        "outputId": "cb497618-a83f-4ad8-eef1-5b25a8a8f9a1"
      },
      "outputs": [
        {
          "data": {
            "text/plain": [
              "8"
            ]
          },
          "execution_count": 10,
          "metadata": {},
          "output_type": "execute_result"
        }
      ],
      "source": [
        "gpas.itemsize"
      ]
    },
    {
      "cell_type": "code",
      "execution_count": null,
      "id": "582b4e07",
      "metadata": {
        "id": "582b4e07",
        "outputId": "5cdc1969-9d6a-40ac-a0d1-fc85ea041668"
      },
      "outputs": [
        {
          "data": {
            "text/plain": [
              "4"
            ]
          },
          "execution_count": 11,
          "metadata": {},
          "output_type": "execute_result"
        }
      ],
      "source": [
        "gpas.size"
      ]
    },
    {
      "cell_type": "code",
      "execution_count": null,
      "id": "6aabbaf1",
      "metadata": {
        "id": "6aabbaf1",
        "outputId": "3bdf68a6-cf4b-4914-c83d-84c84c5b9ad5"
      },
      "outputs": [
        {
          "data": {
            "text/plain": [
              "4"
            ]
          },
          "execution_count": 12,
          "metadata": {},
          "output_type": "execute_result"
        }
      ],
      "source": [
        "len(gpas)"
      ]
    },
    {
      "cell_type": "code",
      "execution_count": null,
      "id": "b3f1c0bd",
      "metadata": {
        "id": "b3f1c0bd",
        "outputId": "21098566-c646-4658-b086-cf20e3670c55"
      },
      "outputs": [
        {
          "data": {
            "text/plain": [
              "32"
            ]
          },
          "execution_count": 14,
          "metadata": {},
          "output_type": "execute_result"
        }
      ],
      "source": [
        "# length * itemsize\n",
        "gpas.nbytes"
      ]
    },
    {
      "cell_type": "markdown",
      "id": "dc47e381",
      "metadata": {
        "id": "dc47e381"
      },
      "source": [
        "### Creating the Study Log"
      ]
    },
    {
      "cell_type": "code",
      "execution_count": null,
      "id": "be126c38",
      "metadata": {
        "id": "be126c38",
        "outputId": "d4c60ced-f96b-4e83-e1e1-0249fd619ab3"
      },
      "outputs": [
        {
          "data": {
            "text/plain": [
              "array([0., 0., 0., 0., 0., 0., 0., 0., 0., 0., 0., 0., 0., 0., 0., 0., 0.,\n",
              "       0., 0., 0., 0., 0., 0., 0., 0., 0., 0., 0., 0., 0., 0., 0., 0., 0.,\n",
              "       0., 0., 0., 0., 0., 0., 0., 0., 0., 0., 0., 0., 0., 0., 0., 0., 0.,\n",
              "       0., 0., 0., 0., 0., 0., 0., 0., 0., 0., 0., 0., 0., 0., 0., 0., 0.,\n",
              "       0., 0., 0., 0., 0., 0., 0., 0., 0., 0., 0., 0., 0., 0., 0., 0., 0.,\n",
              "       0., 0., 0., 0., 0., 0., 0., 0., 0., 0., 0., 0., 0., 0., 0.])"
            ]
          },
          "execution_count": 15,
          "metadata": {},
          "output_type": "execute_result"
        }
      ],
      "source": [
        "study_minutes = np.zeros(100)\n",
        "study_minutes"
      ]
    },
    {
      "cell_type": "code",
      "execution_count": null,
      "id": "36399564",
      "metadata": {
        "id": "36399564"
      },
      "outputs": [],
      "source": []
    },
    {
      "cell_type": "code",
      "execution_count": null,
      "id": "bdbac13e",
      "metadata": {
        "id": "bdbac13e"
      },
      "outputs": [],
      "source": []
    },
    {
      "cell_type": "code",
      "execution_count": null,
      "id": "99fcb1a0",
      "metadata": {
        "id": "99fcb1a0"
      },
      "outputs": [],
      "source": []
    },
    {
      "cell_type": "code",
      "execution_count": null,
      "id": "5e5434fd",
      "metadata": {
        "id": "5e5434fd"
      },
      "outputs": [],
      "source": []
    },
    {
      "cell_type": "code",
      "execution_count": null,
      "id": "32774661",
      "metadata": {
        "id": "32774661"
      },
      "outputs": [],
      "source": []
    }
  ],
  "metadata": {
    "kernelspec": {
      "display_name": "Python 3 (ipykernel)",
      "language": "python",
      "name": "python3"
    },
    "language_info": {
      "codemirror_mode": {
        "name": "ipython",
        "version": 3
      },
      "file_extension": ".py",
      "mimetype": "text/x-python",
      "name": "python",
      "nbconvert_exporter": "python",
      "pygments_lexer": "ipython3",
      "version": "3.10.9"
    },
    "colab": {
      "provenance": [],
      "include_colab_link": true
    }
  },
  "nbformat": 4,
  "nbformat_minor": 5
}