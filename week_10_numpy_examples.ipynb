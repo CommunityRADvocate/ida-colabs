{
  "nbformat": 4,
  "nbformat_minor": 0,
  "metadata": {
    "colab": {
      "provenance": [],
      "authorship_tag": "ABX9TyOPkUlHZonuXgNo8lutgPJ3",
      "include_colab_link": true
    },
    "kernelspec": {
      "name": "python3",
      "display_name": "Python 3"
    },
    "language_info": {
      "name": "python"
    }
  },
  "cells": [
    {
      "cell_type": "markdown",
      "metadata": {
        "id": "view-in-github",
        "colab_type": "text"
      },
      "source": [
        "<a href=\"https://colab.research.google.com/github/CommunityRADvocate/ida-colabs/blob/main/week_10_numpy_examples.ipynb\" target=\"_parent\"><img src=\"https://colab.research.google.com/assets/colab-badge.svg\" alt=\"Open In Colab\"/></a>"
      ]
    },
    {
      "cell_type": "markdown",
      "source": [
        "# NumPy\n",
        "\n",
        "* Stands for \"Numerical Python\"\n",
        "* Deals with numerical data and mathematical equations in a more efficient way than regular Python\n",
        "* Offers advanced mathematical functions and simplifies many numerical concepts"
      ],
      "metadata": {
        "id": "vz9kqZyZ6Nv6"
      }
    },
    {
      "cell_type": "markdown",
      "source": [
        "## Introducing Arrays\n",
        "\n",
        "* Common data structure in many programming languages\n",
        "* NumPy arrays are more restrictive than regular Python lists\n",
        "    * Elements must be of the same data type\n",
        "    * They are immutable\n",
        "\n",
        "Why would we want a more restrictive structure?"
      ],
      "metadata": {
        "id": "vCR65U_L7Im_"
      }
    },
    {
      "cell_type": "code",
      "source": [
        "import numpy as np\n",
        "\n",
        "# create a list\n",
        "my_list = [1, 2, 3, 4, 5]\n",
        "\n",
        "# convert list to a numpy array\n",
        "my_array = np.array(my_list)\n",
        "\n",
        "# print the array\n",
        "print(my_array)"
      ],
      "metadata": {
        "colab": {
          "base_uri": "https://localhost:8080/"
        },
        "id": "yRERr0Cl7w1Z",
        "outputId": "7e9be350-de24-4fe6-894e-bae068fb2dd2"
      },
      "execution_count": null,
      "outputs": [
        {
          "output_type": "stream",
          "name": "stdout",
          "text": [
            "[1 2 3 4 5]\n"
          ]
        }
      ]
    },
    {
      "cell_type": "markdown",
      "source": [
        "## Multidimensional Arrays"
      ],
      "metadata": {
        "id": "PJlIh1Ys8wIi"
      }
    },
    {
      "cell_type": "markdown",
      "source": [
        "We'll create a 2D array, aka matrix"
      ],
      "metadata": {
        "id": "j2iUKwc2O83z"
      }
    },
    {
      "cell_type": "code",
      "source": [
        "matrix = np.array([[1, 2, 3],\n",
        "                   [4, 5, 6],\n",
        "                   [7, 8, 9]])\n",
        "matrix"
      ],
      "metadata": {
        "colab": {
          "base_uri": "https://localhost:8080/"
        },
        "id": "ZooJLU1tNvpu",
        "outputId": "e8e23644-d4c3-48e5-d9fc-a243605f3490"
      },
      "execution_count": null,
      "outputs": [
        {
          "output_type": "execute_result",
          "data": {
            "text/plain": [
              "array([[1, 2, 3],\n",
              "       [4, 5, 6],\n",
              "       [7, 8, 9]])"
            ]
          },
          "metadata": {},
          "execution_count": 3
        }
      ]
    },
    {
      "cell_type": "markdown",
      "source": [
        "We can access specific elements in the array by specifying their row and column index"
      ],
      "metadata": {
        "id": "4EteWK-UPK5h"
      }
    },
    {
      "cell_type": "code",
      "source": [
        "# what will I get when I run this?\n",
        "elements = matrix[1][2]\n",
        "elements = matrix[1, 2]\n",
        "elements"
      ],
      "metadata": {
        "colab": {
          "base_uri": "https://localhost:8080/"
        },
        "id": "biOdB9wgOA3s",
        "outputId": "f76ee647-62b8-4a9d-a250-89d47dc7a8f3"
      },
      "execution_count": null,
      "outputs": [
        {
          "output_type": "execute_result",
          "data": {
            "text/plain": [
              "6"
            ]
          },
          "metadata": {},
          "execution_count": 4
        }
      ]
    },
    {
      "cell_type": "markdown",
      "source": [
        "We can get the shape (how many rows and columns) and size (how many total elements) that are in our matrix"
      ],
      "metadata": {
        "id": "_QidhmnhPWFO"
      }
    },
    {
      "cell_type": "code",
      "source": [
        "matrix.shape"
      ],
      "metadata": {
        "colab": {
          "base_uri": "https://localhost:8080/"
        },
        "id": "2E6dFDh2ONH9",
        "outputId": "a188fdd7-d8d6-40b2-9ac3-208f56c03a9b"
      },
      "execution_count": null,
      "outputs": [
        {
          "output_type": "execute_result",
          "data": {
            "text/plain": [
              "(3, 3)"
            ]
          },
          "metadata": {},
          "execution_count": 5
        }
      ]
    },
    {
      "cell_type": "code",
      "source": [
        "matrix.size"
      ],
      "metadata": {
        "colab": {
          "base_uri": "https://localhost:8080/"
        },
        "id": "585-K_npO1PE",
        "outputId": "bd47fde7-f84a-4716-e5aa-e41cdca0293e"
      },
      "execution_count": null,
      "outputs": [
        {
          "output_type": "execute_result",
          "data": {
            "text/plain": [
              "9"
            ]
          },
          "metadata": {},
          "execution_count": 6
        }
      ]
    },
    {
      "cell_type": "markdown",
      "source": [
        "## Indexing"
      ],
      "metadata": {
        "id": "tAxRB93MO2nc"
      }
    },
    {
      "cell_type": "markdown",
      "source": [
        "Besides directly specifying row and column index, we can use more advanced techniques"
      ],
      "metadata": {
        "id": "GT1dQDUmPmi8"
      }
    },
    {
      "cell_type": "code",
      "source": [
        "# create a list of numbers from 0 to 9\n",
        "my_list = np.arange(10)\n",
        "my_list"
      ],
      "metadata": {
        "colab": {
          "base_uri": "https://localhost:8080/"
        },
        "id": "tvPGmCREQb_1",
        "outputId": "f3949e0e-aa57-4b74-ae35-3630ce6c09a0"
      },
      "execution_count": null,
      "outputs": [
        {
          "output_type": "execute_result",
          "data": {
            "text/plain": [
              "array([0, 1, 2, 3, 4, 5, 6, 7, 8, 9])"
            ]
          },
          "metadata": {},
          "execution_count": 7
        }
      ]
    },
    {
      "cell_type": "code",
      "source": [
        "np.lookfor(\"arange\")"
      ],
      "metadata": {
        "id": "LBOcxC78T-LJ"
      },
      "execution_count": null,
      "outputs": []
    },
    {
      "cell_type": "code",
      "source": [
        "first_element = my_list[0]\n",
        "second_element = my_list[1]\n",
        "first_element, second_element"
      ],
      "metadata": {
        "colab": {
          "base_uri": "https://localhost:8080/"
        },
        "id": "WM-ug7w-RHg8",
        "outputId": "02164e68-8cdd-4548-f61e-f93e46d28a3f"
      },
      "execution_count": null,
      "outputs": [
        {
          "output_type": "execute_result",
          "data": {
            "text/plain": [
              "(0, 1)"
            ]
          },
          "metadata": {},
          "execution_count": 12
        }
      ]
    },
    {
      "cell_type": "code",
      "source": [
        "subset = my_list[2:4]\n",
        "subset"
      ],
      "metadata": {
        "colab": {
          "base_uri": "https://localhost:8080/"
        },
        "id": "PIcSfb4qRJBu",
        "outputId": "d4bbfae7-8dea-43a0-b55c-e2adca9e5437"
      },
      "execution_count": null,
      "outputs": [
        {
          "output_type": "execute_result",
          "data": {
            "text/plain": [
              "array([2, 3])"
            ]
          },
          "metadata": {},
          "execution_count": 13
        }
      ]
    },
    {
      "cell_type": "markdown",
      "source": [
        "## Boolean Array Indexing"
      ],
      "metadata": {
        "id": "guQM2DWSRk5f"
      }
    },
    {
      "cell_type": "code",
      "source": [
        "data = np.array([75, 40, 90, 55, 68, 30, 82, 95, 42, 78])"
      ],
      "metadata": {
        "id": "E61JldZKRzb-"
      },
      "execution_count": null,
      "outputs": []
    },
    {
      "cell_type": "code",
      "source": [
        "# view all elements that are less than 60\n",
        "failing = data[data < 60]\n",
        "failing"
      ],
      "metadata": {
        "colab": {
          "base_uri": "https://localhost:8080/"
        },
        "id": "uxDY2MAESBPm",
        "outputId": "ffdaf15f-541b-4a5c-c84c-de07585df446"
      },
      "execution_count": null,
      "outputs": [
        {
          "output_type": "execute_result",
          "data": {
            "text/plain": [
              "array([40, 55, 30, 42])"
            ]
          },
          "metadata": {},
          "execution_count": 16
        }
      ]
    },
    {
      "cell_type": "markdown",
      "source": [
        "## Slicing\n",
        "\n",
        "* Returns views, not copies\n",
        "    * This means you need to be mindful of manipulating values on slices if you don't intend to change the original dataset"
      ],
      "metadata": {
        "id": "nZILDZV4SR-b"
      }
    },
    {
      "cell_type": "code",
      "source": [
        "my_list"
      ],
      "metadata": {
        "colab": {
          "base_uri": "https://localhost:8080/"
        },
        "id": "dvPsB_rwSdXc",
        "outputId": "ba9a0e9d-7820-4b08-86df-ea970518718b"
      },
      "execution_count": null,
      "outputs": [
        {
          "output_type": "execute_result",
          "data": {
            "text/plain": [
              "array([0, 1, 2, 3, 4, 5, 6, 7, 8, 9])"
            ]
          },
          "metadata": {},
          "execution_count": 17
        }
      ]
    },
    {
      "cell_type": "code",
      "source": [
        "sliced_list = my_list[2:6]\n",
        "sliced_list"
      ],
      "metadata": {
        "colab": {
          "base_uri": "https://localhost:8080/"
        },
        "id": "YIcYVetFTWYg",
        "outputId": "c1e57e44-248e-4837-dd1d-e8257f784b0d"
      },
      "execution_count": null,
      "outputs": [
        {
          "output_type": "execute_result",
          "data": {
            "text/plain": [
              "array([2, 3, 4, 5])"
            ]
          },
          "metadata": {},
          "execution_count": 18
        }
      ]
    },
    {
      "cell_type": "code",
      "source": [
        "sliced_list[0] = 11\n",
        "my_list, sliced_list"
      ],
      "metadata": {
        "colab": {
          "base_uri": "https://localhost:8080/"
        },
        "id": "mAwvkIzMT3Hk",
        "outputId": "a413d318-4ef2-467e-82f0-3fd4c86972c5"
      },
      "execution_count": null,
      "outputs": [
        {
          "output_type": "execute_result",
          "data": {
            "text/plain": [
              "(array([ 0,  1, 11,  3,  4,  5,  6,  7,  8,  9]), array([11,  3,  4,  5]))"
            ]
          },
          "metadata": {},
          "execution_count": 19
        }
      ]
    }
  ]
}