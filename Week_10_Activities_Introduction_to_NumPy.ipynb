{
  "nbformat": 4,
  "nbformat_minor": 0,
  "metadata": {
    "colab": {
      "provenance": [],
      "include_colab_link": true
    },
    "kernelspec": {
      "name": "python3",
      "display_name": "Python 3"
    },
    "language_info": {
      "name": "python"
    }
  },
  "cells": [
    {
      "cell_type": "markdown",
      "metadata": {
        "id": "view-in-github",
        "colab_type": "text"
      },
      "source": [
        "<a href=\"https://colab.research.google.com/github/CommunityRADvocate/ida-colabs/blob/main/Week_10_Activities_Introduction_to_NumPy.ipynb\" target=\"_parent\"><img src=\"https://colab.research.google.com/assets/colab-badge.svg\" alt=\"Open In Colab\"/></a>"
      ]
    },
    {
      "cell_type": "markdown",
      "source": [
        "# Week 10 Activities - Welcome to NumPy!\n",
        "\n",
        "This week our activities will focus on how you can use NumPy in your projects to generate findings and complete the requirements. This will show you how you can start working with your data in Python, and using NumPy to analyze the data."
      ],
      "metadata": {
        "id": "RfGF0_YpniXe"
      }
    },
    {
      "cell_type": "code",
      "execution_count": null,
      "metadata": {
        "id": "7Bn_KMWqnXNy"
      },
      "outputs": [],
      "source": [
        "# This block set up the notebook by importing libraries and our project data. Make sure you run it before trying to run other blocks of code!\n",
        "import pandas as pd\n",
        "import numpy as np\n",
        "\n",
        "# extension for interactive tables -- limited to 20 columns\n",
        "# %load_ext google.colab.data_table\n",
        "\n",
        "# add link to dataset\n",
        "url = 'https://raw.githubusercontent.com/CommunityRADvocate/ida2404-capstone/main/mxmh_survey_results.csv'\n",
        "# read dataset and set it as a dataframe using pandas\n",
        "df = pd.read_csv(url)\n",
        "\n",
        "# see an overview of the imported dataframe, including column headers and their indexes\n",
        "df.info()"
      ]
    },
    {
      "cell_type": "code",
      "source": [
        "# Let's put our dataframe into a NumPy array so we can work with it. Just run this block of code!\n",
        "np_array = df.to_numpy()\n",
        "np_array"
      ],
      "metadata": {
        "id": "U8oSvgbio3cd"
      },
      "execution_count": null,
      "outputs": []
    },
    {
      "cell_type": "markdown",
      "source": [
        "## Using NumPy to understand and slice our data"
      ],
      "metadata": {
        "id": "tfFXP9Fitx5_"
      }
    },
    {
      "cell_type": "markdown",
      "source": [
        "Next, we'll look at the rank and shape of our data. If you need a reminder on how to determine this, look at the documentation:\n",
        "\n",
        "\n",
        "*   Get rank using [ndim](https://numpy.org/doc/stable/reference/generated/numpy.ndarray.ndim.html)\n",
        "*   Get the [shape](https://numpy.org/doc/stable/reference/generated/numpy.ndarray.shape.html) of your array\n",
        "\n"
      ],
      "metadata": {
        "id": "FvxRPwS8pQic"
      }
    },
    {
      "cell_type": "code",
      "source": [
        "# Your code here to determine the rank of the survey data in np_array"
      ],
      "metadata": {
        "id": "9toyyB1MpKH-"
      },
      "execution_count": null,
      "outputs": []
    },
    {
      "cell_type": "code",
      "source": [
        "# Your code here to determine the shape of the array"
      ],
      "metadata": {
        "id": "DQzApYDRnH5K"
      },
      "execution_count": null,
      "outputs": []
    },
    {
      "cell_type": "markdown",
      "source": [
        "Now, slice your array so you get the column with Primary Streaming Service data and store it in a variable called *streaming_service*. Also get the column corresponding to Age and store it in a variable called *age* and the column for hours per day stored in a variable called *hours*.\n",
        "\n",
        "***Refer to the*** `df.info()` ***block above to view the index numbers that correspond with the columns***\n",
        "\n",
        "Print out each column to make sure you got the right data! Reference the [indexing documentation](https://numpy.org/doc/stable/user/basics.indexing.html#) for more information.\n",
        "\n",
        "\n",
        "```\n",
        "# To pull all values in a row, you would write:\n",
        "array_name[n,:]\n",
        "# where n is the number row you want to get (remember Python starts at 0!)\n",
        "\n",
        "# Alternatively, to get a column, you would write:\n",
        "array_name[:,n]\n",
        "# where n is the number column you want\n",
        "\n",
        "# Be sure to store your column in a new variable!\n",
        "```\n",
        "\n"
      ],
      "metadata": {
        "id": "Ta3e8VLdqQEQ"
      }
    },
    {
      "cell_type": "code",
      "source": [
        "# your code here to create and print the columns streaming_service, age, and hours"
      ],
      "metadata": {
        "id": "RafjR2QhqPfh"
      },
      "execution_count": null,
      "outputs": []
    },
    {
      "cell_type": "markdown",
      "source": [
        "Next, use boolean indexing to filter the ages to include only those over 30. Save it in a variable called *ages_over_30*. Reference the same indexing documentation!\n",
        "\n",
        "\n",
        "```\n",
        "# Here's the basic format:\n",
        "new_variable = original_array[<condition>]\n",
        "```\n",
        "\n",
        "Then, count the number of survey participants that had an age over 30 using the [size](https://numpy.org/doc/stable/reference/generated/numpy.ndarray.size.html) method on your new variable. Also count the original number of ages."
      ],
      "metadata": {
        "id": "xxrvpHA2sLeJ"
      }
    },
    {
      "cell_type": "code",
      "source": [
        "# your code here to create ages_over_30 and count the number of ages in total and over 30"
      ],
      "metadata": {
        "id": "2m4XOp5utNpT"
      },
      "execution_count": null,
      "outputs": []
    },
    {
      "cell_type": "markdown",
      "source": [
        "*There will be a RuntimeWarning due to a `nan` value in the age column, but the code will still run; we'll get more into data cleaning with Pandas*"
      ],
      "metadata": {
        "id": "QOrcIEZisbgj"
      }
    },
    {
      "cell_type": "code",
      "source": [],
      "metadata": {
        "id": "DYNoa4HvLE34"
      },
      "execution_count": null,
      "outputs": []
    },
    {
      "cell_type": "code",
      "source": [
        "# We'll also remove any null values. You can just run this code after creating your variables!\n",
        "age = age[age > 0]\n",
        "hours = hours[hours > 0]\n",
        "# Ignore the runtime warning for now :)"
      ],
      "metadata": {
        "colab": {
          "base_uri": "https://localhost:8080/"
        },
        "id": "EnNrpJbqEPc-",
        "outputId": "30f7b34e-5d18-496f-c9c0-b00cac467a1f"
      },
      "execution_count": null,
      "outputs": [
        {
          "output_type": "stream",
          "name": "stderr",
          "text": [
            "<ipython-input-18-f82da5fb5253>:2: RuntimeWarning: invalid value encountered in greater\n",
            "  age = age[age > 0]\n"
          ]
        }
      ]
    },
    {
      "cell_type": "markdown",
      "source": [
        "## Using NumPy to Perform Statistics"
      ],
      "metadata": {
        "id": "jd3XK_aftQEM"
      }
    },
    {
      "cell_type": "markdown",
      "source": [
        "NumPy can also be used to perform statistics! Let's practice using the age variable we created. Start by pulling the [maximum](https://numpy.org/doc/stable/reference/generated/numpy.ndarray.max.html) and [minimum](https://numpy.org/doc/stable/reference/generated/numpy.ndarray.min.html) values (documentation linked)!"
      ],
      "metadata": {
        "id": "TitJ1toLt5op"
      }
    },
    {
      "cell_type": "code",
      "source": [
        "# your code here to pull the maximum and minimum values in the age array"
      ],
      "metadata": {
        "id": "TLjbuJgCuTGH"
      },
      "execution_count": null,
      "outputs": []
    },
    {
      "cell_type": "markdown",
      "source": [
        "Now, let's try looking at some other statistics. Generate each of the following for the age array:\n",
        "\n",
        "\n",
        "*   [Mean](https://numpy.org/doc/stable/reference/generated/numpy.mean.html)\n",
        "*   [Median](https://numpy.org/doc/stable/reference/generated/numpy.median.html)\n",
        "*   [Standard deviation](https://numpy.org/doc/stable/reference/generated/numpy.std.html)\n",
        "*   [Variance](https://numpy.org/doc/stable/reference/generated/numpy.var.html)\n",
        "*   [75th percentile](https://numpy.org/doc/stable/reference/generated/numpy.percentile.html)\n",
        "\n"
      ],
      "metadata": {
        "id": "Uj0mUDhnuYPi"
      }
    },
    {
      "cell_type": "code",
      "source": [
        "# your code here to generate some statistics!"
      ],
      "metadata": {
        "id": "ABXG9rYUuXt8"
      },
      "execution_count": null,
      "outputs": []
    },
    {
      "cell_type": "markdown",
      "source": [
        "## NumPy and Graphing with Matplotlib"
      ],
      "metadata": {
        "id": "KC6yedGuy_S1"
      }
    },
    {
      "cell_type": "markdown",
      "source": [
        "NumPy is compatible with Python's graphing library, Matplotlib. Let's do some basic practice graphing our data!\n",
        "\n",
        "We'll start by creating a [box and whiskers plot](https://www.geeksforgeeks.org/box-plot-in-python-using-matplotlib/) of our age data."
      ],
      "metadata": {
        "id": "PHXB7FrivQk_"
      }
    },
    {
      "cell_type": "code",
      "source": [
        "# import matplotlib\n",
        "import matplotlib.pyplot as plt\n",
        "\n",
        "# your code here to create a box and whisker plot of the age data\n"
      ],
      "metadata": {
        "id": "3Z4ICGlQwg2c"
      },
      "execution_count": null,
      "outputs": []
    },
    {
      "cell_type": "markdown",
      "source": [
        "Let's also create a histogram of this data! Check out the documentation [here](https://www.geeksforgeeks.org/box-plot-in-python-using-matplotlib/)"
      ],
      "metadata": {
        "id": "3E40XzP4xo3r"
      }
    },
    {
      "cell_type": "code",
      "source": [
        "# your code here to create a histogram of the age data"
      ],
      "metadata": {
        "id": "2KlB49_Jx2yS"
      },
      "execution_count": null,
      "outputs": []
    },
    {
      "cell_type": "markdown",
      "source": [
        "We can also create a scatter plot! Let's compare the age of responders to their hours listened per day. Scatter plot documentation [here](https://www.w3schools.com/python/matplotlib_scatter.asp)."
      ],
      "metadata": {
        "id": "F2FQizO0yqHK"
      }
    },
    {
      "cell_type": "code",
      "source": [
        "# we'll reset the cleaning we did earlier with these columns for plotting purposes\n",
        "age = np_array[:, 1]\n",
        "hours = np_array[:, 3]"
      ],
      "metadata": {
        "id": "RCrR8G1qLRRR"
      },
      "execution_count": null,
      "outputs": []
    },
    {
      "cell_type": "code",
      "source": [
        "# your code here to create a scatter plot with age on the x-axis and hours on the y-axis"
      ],
      "metadata": {
        "id": "xWWCIe12y2xO"
      },
      "execution_count": null,
      "outputs": []
    },
    {
      "cell_type": "markdown",
      "source": [
        "Awesome work! Although we won't formally go through matplotlib, feel free to experiment with it in your projects if you'd like to create some visualizations! You have access to the [Treehouse Matplotlib module](https://teamtreehouse.com/library/introduction-to-data-visualization-with-matplotlib) if you'd like to learn on your own."
      ],
      "metadata": {
        "id": "DhGkoNI3x2TR"
      }
    }
  ]
}